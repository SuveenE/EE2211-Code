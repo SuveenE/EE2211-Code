{
 "cells": [
  {
   "cell_type": "markdown",
   "id": "2e32acce-95ce-447a-b787-9012b25ffd83",
   "metadata": {},
   "source": [
    "### Linear Regression"
   ]
  },
  {
   "cell_type": "code",
   "execution_count": 50,
   "id": "1605688b-f662-4657-9be2-c130921ef8c4",
   "metadata": {},
   "outputs": [
    {
     "name": "stdout",
     "output_type": "stream",
     "text": [
      "[[5.7661 5.5284]]\n",
      "[[-0.0718  0.6665]\n",
      " [ 0.0325  0.7073]]\n",
      "[ 4.2897 -2.8824]\n"
     ]
    }
   ],
   "source": [
    "import numpy as np\n",
    "from sklearn.linear_model import LinearRegression\n",
    "\n",
    "# Assuming X is correctly structured as samples with two features each\n",
    "X = np.array([[45, 9], [50, 10], [63, 12], [70, 8], [80, 4]])\n",
    "#X = np.array([-10, -8, -3, -1, 2, 8]).reshape(-1, 1)\n",
    "#Y = np.array([5, 5, 4, 3, 2, 2]).reshape(-1, 1)\n",
    "# Assuming Y should have samples as rows and targets as columns\n",
    "# Adjusted Y to match common usage patterns for LinearRegression with multiple targets\n",
    "Y = np.array([[6, 5], [9, 6], [8, 9], [3, 2], [2, 4]])\n",
    "\n",
    "# Initialize and fit the model\n",
    "model = LinearRegression()\n",
    "model.fit(X, Y)\n",
    "\n",
    "# Predict using a sample with the correct shape\n",
    "y_pred = model.predict([[63,9]])  # Note the double brackets to create a 2D array\n",
    "print(y_pred)\n",
    "\n",
    "print(model.coef_)\n",
    "print(model.intercept_)"
   ]
  },
  {
   "cell_type": "markdown",
   "id": "4fc09923-5611-409b-b238-4c4211a3ee4b",
   "metadata": {},
   "source": [
    "### Mean Squared Errors"
   ]
  },
  {
   "cell_type": "code",
   "execution_count": 51,
   "id": "57a000e0-e9db-43dd-a75e-1852b41a9ff5",
   "metadata": {},
   "outputs": [
    {
     "name": "stdout",
     "output_type": "stream",
     "text": [
      "Mean Squared Error for output 1: 1.4030198896178283\n",
      "Mean Squared Error for output 2: 2.6545038008955535\n"
     ]
    }
   ],
   "source": [
    "from sklearn.metrics import mean_squared_error\n",
    "Y_pred = model.predict(X)\n",
    "\n",
    "# Calculate the MSE for each output\n",
    "mse_output_1 = mean_squared_error(Y[:, 0], Y_pred[:, 0])\n",
    "mse_output_2 = mean_squared_error(Y[:, 1], Y_pred[:, 1])\n",
    "\n",
    "print(\"Mean Squared Error for output 1:\", mse_output_1)\n",
    "print(\"Mean Squared Error for output 2:\", mse_output_2)"
   ]
  },
  {
   "cell_type": "code",
   "execution_count": 84,
   "id": "f96c8f0f-63c0-4a87-affa-86612984ee05",
   "metadata": {},
   "outputs": [
    {
     "name": "stdout",
     "output_type": "stream",
     "text": [
      "[3. 1.]\n"
     ]
    }
   ],
   "source": [
    "# Even-determined system (m = d) Demo 3\n",
    "\n",
    "import numpy as np\n",
    "from numpy.linalg import inv\n",
    "import matplotlib.pyplot as plt\n",
    "from numpy.linalg import matrix_rank\n",
    "\n",
    "X = np.array([[1, 1], [1, -2]])\n",
    "y = np.array([4, 1])\n",
    "w = inv(X) @ y\n",
    "print(w)"
   ]
  },
  {
   "cell_type": "code",
   "execution_count": 85,
   "id": "ee74bb08-2a2f-4b3f-ae3f-edc43b8206fa",
   "metadata": {},
   "outputs": [
    {
     "name": "stdout",
     "output_type": "stream",
     "text": [
      "[[ 0.125   0.25  ]\n",
      " [-0.375   0.5   ]\n",
      " [ 0.0137  0.0645]]\n"
     ]
    }
   ],
   "source": [
    "#Over-determined system (m > d) Demo 4\n",
    "\n",
    "import numpy as np\n",
    "from numpy.linalg import inv\n",
    "X = np.array([[4, -3, 6], [1, 0, 10]])\n",
    "y = np.array([1, 0, 2])\n",
    "w = inv(X.T @ X) @ X.T \n",
    "print(w)"
   ]
  },
  {
   "cell_type": "code",
   "execution_count": null,
   "id": "f2c77594-c561-47ca-b1c8-9907e5fc5aa9",
   "metadata": {},
   "outputs": [],
   "source": [
    "#Under-determined system 2 (m < d) Example 3\n",
    "\n",
    "import numpy as np\n",
    "from numpy.linalg import inv\n",
    "from numpy.linalg import matrix_rank\n",
    "from numpy.linalg import det\n",
    "\n",
    "X = np.array([[1, 2, 3], [1, -2, 3]])\n",
    "y = np.array([2, 1])\n",
    "w = X.T @ inv(X@ X.T) @ y\n",
    "print(w)"
   ]
  },
  {
   "cell_type": "markdown",
   "id": "36bdab09-6f05-4d2d-95ae-2826c036a367",
   "metadata": {},
   "source": [
    "### Linear Classification (Binary)"
   ]
  },
  {
   "cell_type": "code",
   "execution_count": 52,
   "id": "7ff060b1-0662-45f1-94ed-e11edce2eed4",
   "metadata": {
    "scrolled": true
   },
   "outputs": [
    {
     "name": "stdout",
     "output_type": "stream",
     "text": [
      "Estimated w\n",
      "[[ 0.7447]\n",
      " [-0.1277]]\n",
      "Training out\n",
      "[[ 0.234 ]\n",
      " [-0.1489]\n",
      " [-0.5319]\n",
      " [ 0.4894]\n",
      " [ 0.3617]\n",
      " [-0.4043]]\n",
      "Predicted y\n",
      "[[-0.0213]]\n",
      "Predicted y class\n",
      "[[-1.]]\n"
     ]
    }
   ],
   "source": [
    "import numpy as np\n",
    "from numpy.linalg import inv\n",
    "\n",
    "#Have to include the bias term\n",
    "X = np.array([[1,4], [1,7], [1,10], [1,2], [1,3], [1, 9]])\n",
    "y = np.array([[-1], [-1], [-1], [1], [1], [1]])\n",
    "w = inv(X.T @ X) @ X.T @ y\n",
    "print(\"Estimated w\")\n",
    "print(w)\n",
    "training_out = X@w\n",
    "print(\"Training out\")\n",
    "print(training_out)\n",
    "Xt = np.array([[1,6]])\n",
    "y_predict = Xt @ w\n",
    "print(\"Predicted y\")\n",
    "print(y_predict)\n",
    "y_class_predict = np.sign(y_predict)\n",
    "print(\"Predicted y class\")\n",
    "print(y_class_predict)"
   ]
  },
  {
   "cell_type": "markdown",
   "id": "6151a2b6-df5b-4034-9a83-d32e624caba9",
   "metadata": {},
   "source": [
    "### Linear Classification (Multi class)"
   ]
  },
  {
   "cell_type": "code",
   "execution_count": 43,
   "id": "7dc276fd-4a1d-448b-a2ca-759feba998f3",
   "metadata": {},
   "outputs": [
    {
     "name": "stdout",
     "output_type": "stream",
     "text": [
      "[[-0.0101 -6.0302  7.0402]\n",
      " [-0.2487 -1.7462  1.995 ]\n",
      " [ 0.4472  3.3417 -3.7889]\n",
      " [ 0.0302  1.0905 -1.1206]]\n",
      "Predicted y\n",
      "[ -1.0327 -10.098   12.1307]\n",
      "OneHotEncoder(sparse_output=False)\n",
      "[[1. 0. 0.]\n",
      " [1. 0. 0.]\n",
      " [0. 1. 0.]\n",
      " [0. 0. 1.]\n",
      " [0. 0. 1.]]\n"
     ]
    }
   ],
   "source": [
    "import numpy as np\n",
    "from numpy.linalg import inv\n",
    "from sklearn.preprocessing import OneHotEncoder\n",
    "\n",
    "#Have to include the bias term\n",
    "X = np.array([[1, 1, 3, -2], [1, -4, 0, -1], [1, 3, 1, 8], [1, 2, 1, 6],[1, 8, 4, 6] ]) \n",
    "#X = np.array()\n",
    "y_class = np.array([[1], [1], [2], [3], [3]])\n",
    "y = np.array([[1, 0, 0],[1, 0, 0], [0, 1, 0], [0, 0, 1], [0, 0, 1]])\n",
    "# print(\"One-hot encoding manual\")\n",
    "# print(y_class)\n",
    "# print(y_onehot)\n",
    "w = inv(X.T @ X) @ X.T @ y\n",
    "#w = X.T @ inv(X@ X.T) @ y\n",
    "print(w)\n",
    "\n",
    "Xt = np.array([1,1,-2,4])\n",
    "y_predict = Xt @ w\n",
    "print(\"Predicted y\")\n",
    "print(y_predict)\n",
    "onehot_encoder=OneHotEncoder(sparse_output=False)\n",
    "print(onehot_encoder)\n",
    "Ytr_onehot = onehot_encoder.fit_transform(y_class)\n",
    "print(Ytr_onehot)"
   ]
  },
  {
   "cell_type": "markdown",
   "id": "c9b3e189-7964-4ca6-950e-da8650f96a6f",
   "metadata": {},
   "source": [
    "### Polynomial Classification"
   ]
  },
  {
   "cell_type": "code",
   "execution_count": 53,
   "id": "3e92f056-502e-4be3-bebc-e8bc24f23673",
   "metadata": {},
   "outputs": [
    {
     "name": "stdout",
     "output_type": "stream",
     "text": [
      "[-0.7634 -1.1183 -1.0423  1.0761  0.7465  1.1014]\n",
      "[[-1], [-1], [-1], [1], [1], [1]]\n",
      "[[1.000e+00 6.000e+00 3.600e+01 2.160e+02 1.296e+03]]\n",
      "[-2.1198]\n"
     ]
    }
   ],
   "source": [
    "import numpy as np\n",
    "from numpy.linalg import inv\n",
    "from numpy.linalg import matrix_rank\n",
    "from sklearn.preprocessing import PolynomialFeatures\n",
    "\n",
    "X = np.array([[4], [7], [10], [2], [3], [9]]) \n",
    "y = np.array([-1, -1, -1, 1, 1, 1])\n",
    "## Generate polynomial features\n",
    "order = 4\n",
    "poly = PolynomialFeatures(order)\n",
    "P = poly.fit_transform(X)\n",
    "\n",
    "#w_primal = inv(P.T @ P) @ P.T @ y\n",
    "#w_dual = P.T @ inv(P @ P.T) @ y\n",
    "#print(w_dual)\n",
    "yout = P@w_primal\n",
    "print(yout)\n",
    "yp_class_predict = [[1 if x >=0 else -1 ] for x in yout ] \n",
    "print(yp_class_predict)\n",
    "Pnew =poly.fit_transform([[6]]) \n",
    "print(Pnew) \n",
    "Ynew_poly = Pnew@w_primal\n",
    "print(Ynew_poly) "
   ]
  },
  {
   "cell_type": "markdown",
   "id": "82417495-0305-4401-818c-bc58f254c13a",
   "metadata": {},
   "source": [
    "### Polynomial (Number of parameters)"
   ]
  },
  {
   "cell_type": "code",
   "execution_count": 83,
   "id": "913eaf91-d8ae-4eb9-aac0-7704511fa42a",
   "metadata": {},
   "outputs": [
    {
     "name": "stdout",
     "output_type": "stream",
     "text": [
      "20\n",
      "[[ 1.  1.  3.  4.  1.  3.  4.  9. 12. 16.  1.  3.  4.  9. 12. 16. 27. 36.\n",
      "  48. 64.]]\n"
     ]
    }
   ],
   "source": [
    "import numpy as np\n",
    "from sklearn.preprocessing import PolynomialFeatures\n",
    "\n",
    "X = np.array([[1, 3, 4], [6, -1, 6], [5, 3, 3], [2, 1, 2]]) \n",
    "order = 3\n",
    "poly = PolynomialFeatures(order)\n",
    "P = poly.fit_transform(X[0].reshape(1, -1))\n",
    "print(len(P[0]))\n",
    "print(P)"
   ]
  },
  {
   "cell_type": "markdown",
   "id": "17529427-c8bc-45e4-9ec7-32bae3e8a789",
   "metadata": {},
   "source": [
    "### Polynomial Classification (Multi Class)"
   ]
  },
  {
   "cell_type": "code",
   "execution_count": 11,
   "id": "319dca96-6d14-444a-94b2-30317de876e2",
   "metadata": {},
   "outputs": [
    {
     "name": "stdout",
     "output_type": "stream",
     "text": [
      "[[ 3.44948975e-03 -9.43531203e-02  6.34920635e-01]\n",
      " [-3.88897256e-03  1.19190567e-01 -5.97883598e-01]\n",
      " [-7.41760392e-03  2.26945495e-01 -1.58730159e-01]\n",
      " [ 1.15336370e-03  7.73185748e-03  9.65608466e-02]\n",
      " [ 1.33775274e-03 -6.14798507e-03  2.38095238e-02]\n",
      " [ 1.05247425e-04 -4.78034174e-04  1.32275132e-03]]\n",
      "[[ 0.00376319 -0.10401106  0.6930275 ]\n",
      " [ 0.00081622 -0.01003306  0.37717333]]\n",
      "[[0, 0, 1], [0, 0, 1]]\n"
     ]
    }
   ],
   "source": [
    "import numpy as np\n",
    "from numpy.linalg import inv\n",
    "from numpy.linalg import matrix_rank\n",
    "from sklearn.preprocessing import PolynomialFeatures\n",
    "## Polynomial regression for  \n",
    "## Generate polynomial features \n",
    "X = np.array([[-10], [-8], [-3], [-1], [2]])\n",
    "Y = np.array([[1,0,0], [1,0,0], [0,1,0], [0,0,1], [0,1,0]]) \n",
    "order = 5 \n",
    "poly = PolynomialFeatures(order) \n",
    "## only the data column (2nd) is needed for generation of polynomial terms \n",
    "P = poly.fit_transform(X) \n",
    "Xt = np.array([[-0.1], [0.4]])\n",
    "Pt = poly.fit_transform(Xt) \n",
    "## dual solution (without ridge) \n",
    "Wp_dual = P.T @ inv(P @ P.T) @ Y \n",
    "print(Wp_dual) \n",
    "yp_predict = Pt @ Wp_dual \n",
    "print(yp_predict) \n",
    "yp_class_predict = [[1 if y == max(x) else 0 for y in x] for x in yp_predict ]     \n",
    "print(yp_class_predict) "
   ]
  },
  {
   "cell_type": "markdown",
   "id": "5d738f8b-a928-4d26-84d4-f3ce66a344b4",
   "metadata": {},
   "source": [
    "### Polynomial Regression"
   ]
  },
  {
   "cell_type": "code",
   "execution_count": 22,
   "id": "9a4fc6b3-8f40-4c55-95c7-b840980e1141",
   "metadata": {},
   "outputs": [
    {
     "name": "stdout",
     "output_type": "stream",
     "text": [
      "PolynomialFeatures(degree=3)\n",
      "matrix P\n",
      "[[ 1.  1.  0.  1.  1.  0.  1.  0.  0.  1.  1.  0.  1.  0.  0.  1.  0.  0.\n",
      "   0.  1.]\n",
      " [ 1.  1. -1.  1.  1. -1.  1.  1. -1.  1.  1. -1.  1.  1. -1.  1. -1.  1.\n",
      "  -1.  1.]]\n",
      "[ 0.   0.  -0.1  0.   0.  -0.1  0.   0.1 -0.1  0.   0.  -0.1  0.   0.1\n",
      " -0.1  0.  -0.1  0.1 -0.1  0. ]\n",
      "[ 9.99966915e-07  9.99967142e-07 -9.99980001e-02  9.99970894e-07\n",
      "  9.99969188e-07 -9.99980000e-02  9.99968734e-07  9.99980000e-02\n",
      " -9.99980001e-02  9.99973167e-07  9.99969302e-07 -9.99980000e-02\n",
      "  9.99968165e-07  9.99980001e-02 -9.99980000e-02  9.99969075e-07\n",
      " -9.99980001e-02  9.99980000e-02 -9.99980000e-02  9.99967597e-07]\n"
     ]
    }
   ],
   "source": [
    "import numpy as np\n",
    "from numpy.linalg import inv\n",
    "from numpy.linalg import matrix_rank\n",
    "from sklearn.preprocessing import PolynomialFeatures\n",
    "# X = np.array([-10, -8, -3, -1, 2, 8]).reshape(-1, 1)\n",
    "y = np.array([5, 5, 4, 3, 2, 2]).reshape(-1, 1)\n",
    "X = np.array([[1,0,1], [1,-1,1]])\n",
    "y = np.array([0,1])\n",
    "## Generate polynomial features\n",
    "order = 3\n",
    "poly = PolynomialFeatures(order)\n",
    "print(poly)\n",
    "P = poly.fit_transform(X)\n",
    "print(\"matrix P\")\n",
    "print(P)\n",
    "w_dual = P.T @ inv(P @ P.T) @ y\n",
    "#w_primal = inv(P.T @ P) @ P.T @ y\n",
    "print(w_dual)\n",
    "\n",
    "# X_test = np.array([9]).reshape(-1,1)\n",
    "# P_test = poly.fit_transform(X_test)\n",
    "# pred_poly = P_test @ w_primal\n",
    "# print(pred_poly)\n",
    "\n",
    "# reg_L2 = 0.0001*np.identity(P.shape[0]) #number of rows of P = Dual I\n",
    "# print(reg_L2)\n",
    "# w_dual_ridge = P.T @ (inv(P @ P.T + reg_L2)) @ y\n",
    "# print(w_dual_ridge)\n",
    "\n",
    "# print(\"Approximation with primal ridge regression\")\n",
    "# print(P.shape)\n",
    "reg_L = 0.0001*np.identity(P.shape[1]) #number of columns of P = Primal I\n",
    "w_primal_ridge = inv(P.T @ P + reg_L) @ P.T @ y\n",
    "print(w_primal_ridge)"
   ]
  },
  {
   "cell_type": "markdown",
   "id": "12c2bc63-da8a-4e21-a58f-0c891e3297da",
   "metadata": {},
   "source": [
    "### Pearson Correlation"
   ]
  },
  {
   "cell_type": "code",
   "execution_count": 80,
   "id": "5173e803-ff0d-4ef2-802c-dbfb659ad009",
   "metadata": {},
   "outputs": [
    {
     "name": "stdout",
     "output_type": "stream",
     "text": [
      "0.35431366022592226\n",
      "0.7542315997194405\n",
      "-0.1358858969252995\n",
      "0.0871718814416474\n"
     ]
    }
   ],
   "source": [
    "import numpy as np \n",
    "# Features\n",
    "feature_1 = np.array([-0.709, 1.7255, 0.9539, -0.7581, -1.035, -1.049])\n",
    "feature_2 = np.array([2.8719, 1.5014, 1.8365, -0.5467, 1.8274, 0.3501])\n",
    "feature_3 = np.array([-1.8349, 0.4055, 1.0118, 0.5171, 0.7279, 1.2654])\n",
    "feature_4 = np.array([2.6354, 2.7448, 1.4616, 0.7258, -1.6893, -1.7512])\n",
    "\n",
    "# Target\n",
    "target_y = np.array([0.8206, 1.0639, 0.6895, -0.0252, 0.995, 0.6608])\n",
    "\n",
    "def calc_pearson_correlation(a, b):\n",
    "    cov_ab = np.sum((a - a.mean()) * (b - b.mean())) / len(a)\n",
    "    return cov_ab / (a.std() * b.std() + 1e-8)\n",
    "\n",
    "print(calc_pearson_correlation(feature_1, target_y))\n",
    "print(calc_pearson_correlation(feature_2, target_y))\n",
    "print(calc_pearson_correlation(feature_3, target_y))\n",
    "print(calc_pearson_correlation(feature_4, target_y))"
   ]
  },
  {
   "cell_type": "markdown",
   "id": "0ae77c42-e79f-45e2-be64-33c03104a120",
   "metadata": {},
   "source": [
    "### Gradient Descent"
   ]
  },
  {
   "cell_type": "code",
   "execution_count": 97,
   "id": "1553334f-e9da-40cf-b3bb-6bbb05516a6c",
   "metadata": {},
   "outputs": [
    {
     "name": "stdout",
     "output_type": "stream",
     "text": [
      "17.662110237748184\n",
      "20.085536923187668\n"
     ]
    }
   ],
   "source": [
    "import pandas as pd\n",
    "import matplotlib.pyplot as plt\n",
    "import numpy as np\n",
    "import math\n",
    "\n",
    "print(3*math.sin(math.exp(3))*math.sin(math.exp(3))*math.exp(3)*math.cos(math.exp(3)))\n",
    "print(math.exp(3))"
   ]
  },
  {
   "cell_type": "code",
   "execution_count": 100,
   "id": "e68e0955-1fb9-4c70-94b1-138e6673660d",
   "metadata": {},
   "outputs": [
    {
     "name": "stdout",
     "output_type": "stream",
     "text": [
      "1.2337889762251815\n",
      "1.3158756779729237\n",
      "1.6011472035819008\n"
     ]
    }
   ],
   "source": [
    "x = 3\n",
    "for i in range(0,3):\n",
    " x= x-0.1*3*math.sin(math.exp(x))*math.sin(math.exp(x))*math.exp(x)*math.cos(math.exp(x))\n",
    " print(x)"
   ]
  },
  {
   "cell_type": "code",
   "execution_count": 58,
   "id": "2ce08b6a-4352-4442-a232-82ac55178e29",
   "metadata": {},
   "outputs": [
    {
     "name": "stdout",
     "output_type": "stream",
     "text": [
      "1.0\n",
      "2\n"
     ]
    }
   ],
   "source": [
    "x = 3\n",
    "y = 2\n",
    "# Do one at a time cus X affects Y\n",
    "# have to separate gradient with regards to x and y\n",
    "for i in range(0,1):\n",
    " x= x-0.2*(2*x + y*y)\n",
    " #y= y -0.2*(2*x*y)\n",
    " print(x)\n",
    " print(y)"
   ]
  },
  {
   "cell_type": "markdown",
   "id": "5f994a22-d9d0-4373-8f37-a7c83c3a725c",
   "metadata": {},
   "source": [
    "### Regression Tree"
   ]
  },
  {
   "cell_type": "code",
   "execution_count": 59,
   "id": "b9941f48-1f9e-4542-b5a9-2a6ca72fa4b2",
   "metadata": {},
   "outputs": [
    {
     "name": "stdout",
     "output_type": "stream",
     "text": [
      "MSE list\n",
      "[15.9002  8.9759  7.6895  5.5648  6.874   7.6138  7.6581 10.966  14.7656]\n",
      "Minimum MSE = 5.56475 at threshold index 4\n"
     ]
    }
   ],
   "source": [
    "import numpy as np\n",
    "from sklearn.tree import DecisionTreeRegressor\n",
    "import matplotlib.pyplot as plt\n",
    "\n",
    "def our_own_tree(y):\n",
    "\n",
    "    # split data at first level\n",
    "    # L stands for left, R stands for right\n",
    "    yL, yR = find_best_split(y)\n",
    "\n",
    "    # compute prediction\n",
    "    yL_pred = np.mean(yL)*np.ones(len(yL))\n",
    "    yR_pred = np.mean(yR)*np.ones(len(yR))\n",
    "\n",
    "    y_pred = np.concatenate([yL_pred, yR_pred])\n",
    "\n",
    "    return y_pred\n",
    "\n",
    "#Go through all possible thresholds to determine the best split based on MSE\n",
    "def find_best_split(y):\n",
    "\n",
    "    # index represents last element in the below threshold node\n",
    "    sq_err_vec = np.zeros(len(y)-1)\n",
    "    meansq_err_vec = np.zeros(len(y)-1)\n",
    "    for index in range(0, len(y)-1):\n",
    "\n",
    "        # split the data\n",
    "        data_below_threshold = y[:index+1]\n",
    "        data_above_threshold = y[index+1:]\n",
    "\n",
    "        # Compute estimate\n",
    "        mean_below_threshold = np.mean(data_below_threshold)\n",
    "        mean_above_threshold = np.mean(data_above_threshold)\n",
    "\n",
    "        # Compute total square error\n",
    "        # Note that MSE = total square error divided by number of data points\n",
    "        below_sq_err = np.sum(np.square(data_below_threshold - mean_below_threshold))\n",
    "        above_sq_err = np.sum(np.square(data_above_threshold - mean_above_threshold))\n",
    "        sq_err_vec[index] = below_sq_err + above_sq_err\n",
    "        meansq_err_vec[index] = sq_err_vec[index]/len(y)\n",
    "\n",
    "    #print out MSE\n",
    "    print('MSE list')\n",
    "    print(meansq_err_vec)\n",
    "    best_index = np.argmin(meansq_err_vec)\n",
    "    yL = y[:best_index+1]\n",
    "    yR = y[best_index+1:]\n",
    "    print('Minimum MSE = '+str(meansq_err_vec[best_index])+' at threshold index '+str(best_index+1))\n",
    "    return yL, yR\n",
    "\n",
    "\n",
    "#main\n",
    "S = np.array([0.2, 0.7, 1.8, 2.2, 3.7, 4.1, 4.5, 5.1, 6.3, 7.4])\n",
    "P = np.array([2.1, 1.5, 5.8, 6.1, 9.1, 9.5, 9.8, 12.7, 13.8, 15.9])\n",
    "\n",
    "#sort\n",
    "sort_index = S.argsort()\n",
    "S = S[sort_index]\n",
    "P = P[sort_index]\n",
    "\n",
    "# scikit decision tree regressor\n",
    "scikit_tree = DecisionTreeRegressor(criterion='squared_error', max_depth=1)\n",
    "# Focus on House Size\n",
    "scikit_tree.fit(S.reshape(-1,1), P) # reshape necessary because tree expects 2D array\n",
    "scikit_tree_predict = scikit_tree.predict(S.reshape(-1,1))\n",
    "\n",
    "# Our own tree regressor\n",
    "tree_predict = our_own_tree(P)"
   ]
  },
  {
   "cell_type": "markdown",
   "id": "cd3dd742-4deb-4609-b6e0-a8ba2a5a92d2",
   "metadata": {},
   "source": [
    "### MSE of Regression trees (Check both Up and Down)"
   ]
  },
  {
   "cell_type": "code",
   "execution_count": 81,
   "id": "d666a748-cc1b-4ea2-a887-134322d44cd4",
   "metadata": {},
   "outputs": [
    {
     "name": "stdout",
     "output_type": "stream",
     "text": [
      "54.0\n"
     ]
    }
   ],
   "source": [
    "\n",
    "y = [5,13,15,25,6,16,2,19]\n",
    "tot = 0\n",
    "for i in y:\n",
    "    tot += i\n",
    "\n",
    "yb = 13.5\n",
    "\n",
    "tot1 = 0\n",
    "for i in y:\n",
    "    tot1 += (i - yb)*(i - yb)\n",
    "\n",
    "print(tot1/len(y))"
   ]
  },
  {
   "cell_type": "markdown",
   "id": "4a198e9d-ac31-43dd-a96b-f2277828c9de",
   "metadata": {},
   "source": [
    "### Classification Tree"
   ]
  },
  {
   "cell_type": "code",
   "execution_count": 88,
   "id": "06797cac-947f-4ab7-8076-1b365e902385",
   "metadata": {},
   "outputs": [
    {
     "name": "stdout",
     "output_type": "stream",
     "text": [
      "Training accuracy:  1.0\n"
     ]
    },
    {
     "data": {
      "image/png": "[encoded data removed]",
      "text/plain": [
       "<Figure size 640x480 with 1 Axes>"
      ]
     },
     "metadata": {},
     "output_type": "display_data"
    }
   ],
   "source": [
    "from sklearn.datasets import load_iris\n",
    "from sklearn import tree\n",
    "from sklearn.model_selection import train_test_split\n",
    "from sklearn import metrics\n",
    "import matplotlib.pyplot as plt\n",
    "    \n",
    "def classification_tree():\n",
    "    \n",
    "    # load data\n",
    "    # iris_dataset = load_iris()\n",
    "    \n",
    "    # # split dataset\n",
    "    # X_train, X_test, y_train, y_test = train_test_split(iris_dataset['data'], \n",
    "    #                                                     iris_dataset['target'], \n",
    "    #                                                     test_size=0.20, \n",
    "    #                                                     random_state=0\n",
    "\n",
    "    X_train = [[-2.1, -0.5,0,0.2,1.3,3.8,4.3,4.6,5.8,6.5,7.8,8.2]]\n",
    "    y_train =[[1,0,0,0,1,1,0,0,1,1,1,1]]\n",
    "    \n",
    "    # fit tree\n",
    "    dtree = tree.DecisionTreeClassifier(criterion='entropy', max_depth=1)\n",
    "    dtree = dtree.fit(X_train, y_train)\n",
    "    \n",
    "    # predict\n",
    "    y_trainpred = dtree.predict(X_train)\n",
    "    #y_testpred = dtree.predict(X_test)\n",
    "    \n",
    "    # print accuracies\n",
    "    print(\"Training accuracy: \", metrics.accuracy_score(y_train, y_trainpred))\n",
    "    #print(\"Test accuracy: \", metrics.accuracy_score(y_test, y_testpred))    \n",
    "\n",
    "    # Plot tree\n",
    "    tree.plot_tree(dtree)\n",
    "\n",
    "classification_tree()"
   ]
  },
  {
   "cell_type": "markdown",
   "id": "5212bdd3-40c6-4a53-826d-c48436a6178a",
   "metadata": {},
   "source": [
    "### Rank"
   ]
  },
  {
   "cell_type": "code",
   "execution_count": 96,
   "id": "f1b60f16-5495-4414-91b6-f0820c8276f5",
   "metadata": {},
   "outputs": [
    {
     "name": "stdout",
     "output_type": "stream",
     "text": [
      "2\n",
      "[[ 5  0  5]\n",
      " [10 17 10]\n",
      " [20  0 20]]\n"
     ]
    }
   ],
   "source": [
    "import numpy as np\n",
    "from numpy.linalg import matrix_rank\n",
    "X = np.array([[5, 0, 5], [10, 17, 10], [20, 0, 20]])\n",
    "#X = np.array([[1, 0], [1, 1]])\n",
    "print(matrix_rank(X))\n",
    "print(X)"
   ]
  },
  {
   "cell_type": "markdown",
   "id": "0370c28a-6051-436e-848b-119570b0fdfd",
   "metadata": {},
   "source": [
    "### Multiple orders polynomials"
   ]
  },
  {
   "cell_type": "code",
   "execution_count": 26,
   "id": "cc32caaa-7418-49a8-889e-c0556300f4c8",
   "metadata": {},
   "outputs": [],
   "source": [
    "import numpy as np\n",
    "import matplotlib.pyplot as plt\n",
    "import polyreg\n",
    "\n",
    "np.set_printoptions(precision=4)\n",
    "# training data\n",
    "x = np.array([-10, -8, -3, -1, 2, 7]).reshape(-1, 1)\n",
    "y = np.array([4.18, 2.42, 0.22, 0.12, 0.25, 3.09]).reshape(-1, 1)\n",
    "\n",
    "# test data\n",
    "xt = np.array([-9, -7, -5, -4, -2, 1, 4, 5, 6, 9]).reshape(-1, 1)\n",
    "yt = np.array([3, 1.81, 0.80, 0.25, -0.19, 0.4, 1.24, 1.68, 2.32, 5.05]).reshape(-1, 1)\n",
    "all_mse = []\n",
    "all_w = []\n",
    "for i in range(1, 6):\n",
    "    w = polyreg.fit_primal(x, y, d=i, lmbda=-1)\n",
    "    \n",
    "    y_train_pred = polyreg.predict(x, w, d=i)\n",
    "    train_mse = np.mean((y_train_pred - y) * (y_train_pred - y))\n",
    "\n",
    "    y_test_pred = polyreg.predict(xt, w, d=i)\n",
    "    test_mse = np.mean((y_test_pred - yt) * (y_test_pred - yt))\n",
    "\n",
    "    all_w.append(w)\n",
    "    all_mse.append((train_mse, test_mse))\n",
    "\n",
    "w = polyreg.fit_dual(x, y, d=6, lmbda=-1)\n",
    "    \n",
    "y_train_pred = polyreg.predict(x, w, d=6)\n",
    "train_mse = np.mean((y_train_pred - y) * (y_train_pred - y))\n",
    "\n",
    "y_test_pred = polyreg.predict(xt, w, d=6)\n",
    "test_mse = np.mean((y_test_pred - yt) * (y_test_pred - yt))\n",
    "\n",
    "all_w.append(w)\n",
    "all_mse.append((train_mse, test_mse))"
   ]
  },
  {
   "cell_type": "markdown",
   "id": "566f8d27-34fd-4d1b-8d33-bfae3acde0a0",
   "metadata": {},
   "source": [
    "### Order = 1, 2, 3, 4, 5, 6, with regularization (lambda = 1)"
   ]
  },
  {
   "cell_type": "code",
   "execution_count": 27,
   "id": "4c9580f3-bf6b-4b78-992d-d52fc71059e4",
   "metadata": {},
   "outputs": [],
   "source": [
    "all_mse = []\n",
    "all_w = []\n",
    "for i in range(1, 7):\n",
    "    w = polyreg.fit_primal(x, y, d=i, lmbda=1)\n",
    "    \n",
    "    y_train_pred = polyreg.predict(x, w, d=i)\n",
    "    train_mse = np.mean((y_train_pred - y) * (y_train_pred - y))\n",
    "\n",
    "    y_test_pred = polyreg.predict(xt, w, d=i)\n",
    "    test_mse = np.mean((y_test_pred - yt) * (y_test_pred - yt))\n",
    "\n",
    "    all_w.append(w)\n",
    "    all_mse.append((train_mse, test_mse))"
   ]
  },
  {
   "cell_type": "markdown",
   "id": "20a28309-3e1b-4c01-81b4-becee7b4e54b",
   "metadata": {},
   "source": [
    "### K means clustering"
   ]
  },
  {
   "cell_type": "code",
   "execution_count": 94,
   "id": "aeaa276c-2b9a-4a81-b1ba-3c2e21a39efc",
   "metadata": {},
   "outputs": [
    {
     "name": "stdout",
     "output_type": "stream",
     "text": [
      "[0 0 1 1 1 1 1 2 2]\n",
      "Converged centers: [[ 0.  10.5]\n",
      " [ 0.  16.8]\n",
      " [ 0.  21. ]]\n"
     ]
    }
   ],
   "source": [
    "# Data points\n",
    "import numpy as np\n",
    "x1 = np.array([0, 10])\n",
    "x2 = np.array([0, 11]) \n",
    "x3 = np.array([0, 16])\n",
    "x4 = np.array([0, 16]) \n",
    "x5 = np.array([0, 16])\n",
    "x6 = np.array([0, 18]) \n",
    "x7 = np.array([0, 18])\n",
    "x8 = np.array([0, 21])\n",
    "x9 = np.array([0, 21])\n",
    "x10 = np.array([0, 99])\n",
    "data_points = np.array([x1, x2, x3, x4, x5, x6, x7, x8, x9])\n",
    "\n",
    "c1_init = x1\n",
    "c2_init = x4\n",
    "c3_init = x8\n",
    "centers = np.array([c1_init, c2_init, c3_init])\n",
    "\n",
    "def k_means(data_points, centers, n_clusters, max_iterations=100, tol=1e-10):\n",
    "    for _ in range(max_iterations):\n",
    "        \n",
    "        # Assign each data point to the closest centroid\n",
    "        labels = np.argmin(\n",
    "            np.linalg.norm(data_points[:, np.newaxis ] - centers , axis =2) \n",
    "            , axis =1)\n",
    "        \n",
    "        # Update centroids to be the mean of the data points assigned to them\n",
    "        new_centers = np.zeros((n_clusters , data_points.shape[1]))\n",
    "        \n",
    "        # End if centroids no longer change\n",
    "        for i in range(n_clusters):\n",
    "            new_centers[i] = data_points[labels == i].mean(axis=0)\n",
    "        \n",
    "        if np.linalg.norm(new_centers - centers) < tol: \n",
    "            break\n",
    "            \n",
    "        centers = new_centers\n",
    "    \n",
    "    return centers , labels\n",
    "\n",
    "\n",
    "centers, labels = k_means(data_points, centers, n_clusters=3, max_iterations = 100) \n",
    "print(labels)\n",
    "print(\"Converged centers:\", centers)"
   ]
  },
  {
   "cell_type": "code",
   "execution_count": 92,
   "id": "bb087590-8a34-45b7-b116-7770b0103c58",
   "metadata": {},
   "outputs": [
    {
     "name": "stdout",
     "output_type": "stream",
     "text": [
      "0.954434002924965\n"
     ]
    }
   ],
   "source": [
    "import math\n",
    "\n",
    "a = - (5/8)*math.log2(5/8) - (3/8)*math.log2(3/8) \n",
    "print(a)"
   ]
  },
  {
   "cell_type": "code",
   "execution_count": 93,
   "id": "5c340877-d4c1-428a-a147-c40982401298",
   "metadata": {},
   "outputs": [
    {
     "data": {
      "text/plain": [
       "0.63628933528331"
      ]
     },
     "execution_count": 93,
     "metadata": {},
     "output_type": "execute_result"
    }
   ],
   "source": [
    "a*(2/3)"
   ]
  },
  {
   "cell_type": "code",
   "execution_count": 89,
   "id": "6225cc61-fb9e-48ec-aa25-0fa58c00f6a2",
   "metadata": {},
   "outputs": [
    {
     "name": "stdout",
     "output_type": "stream",
     "text": [
      "0.46875\n"
     ]
    }
   ],
   "source": [
    "n = 1 - (5/8)*(5/8) - (3/8)*(3/8)\n",
    "print(n)"
   ]
  },
  {
   "cell_type": "code",
   "execution_count": 90,
   "id": "7d42645f-0202-4877-8ad6-1fdb76865678",
   "metadata": {},
   "outputs": [
    {
     "data": {
      "text/plain": [
       "0.3125"
      ]
     },
     "execution_count": 90,
     "metadata": {},
     "output_type": "execute_result"
    }
   ],
   "source": [
    "n*(2/3)\n"
   ]
  },
  {
   "cell_type": "code",
   "execution_count": null,
   "id": "f28dff18-58db-45fd-9de7-482168da733e",
   "metadata": {},
   "outputs": [],
   "source": []
  }
 ],
 "metadata": {
  "kernelspec": {
   "display_name": "Python 3 (ipykernel)",
   "language": "python",
   "name": "python3"
  },
  "language_info": {
   "codemirror_mode": {
    "name": "ipython",
    "version": 3
   },
   "file_extension": ".py",
   "mimetype": "text/x-python",
   "name": "python",
   "nbconvert_exporter": "python",
   "pygments_lexer": "ipython3",
   "version": "3.11.5"
  }
 },
 "nbformat": 4,
 "nbformat_minor": 5
}
